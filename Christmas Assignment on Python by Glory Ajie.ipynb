{
 "cells": [
  {
   "cell_type": "markdown",
   "id": "76aef249",
   "metadata": {},
   "source": [
    "# Exercise 1.4"
   ]
  },
  {
   "cell_type": "markdown",
   "id": "3151ab53",
   "metadata": {},
   "source": [
    "1.\tWhat is the output of the following print statements?"
   ]
  },
  {
   "cell_type": "code",
   "execution_count": 1,
   "id": "901582f1",
   "metadata": {},
   "outputs": [
    {
     "name": "stdout",
     "output_type": "stream",
     "text": [
      "\ta\tb\tc\n"
     ]
    }
   ],
   "source": [
    "print(\"\\ta\\tb\\tc\") "
   ]
  },
  {
   "cell_type": "code",
   "execution_count": 2,
   "id": "61449c10",
   "metadata": {},
   "outputs": [
    {
     "name": "stdout",
     "output_type": "stream",
     "text": [
      "\\\\\n"
     ]
    }
   ],
   "source": [
    "print(\"\\\\\\\\\")"
   ]
  },
  {
   "cell_type": "code",
   "execution_count": 4,
   "id": "7298f53c",
   "metadata": {},
   "outputs": [
    {
     "name": "stdout",
     "output_type": "stream",
     "text": [
      "'\n"
     ]
    }
   ],
   "source": [
    "print(\"'\")"
   ]
  },
  {
   "cell_type": "code",
   "execution_count": 5,
   "id": "4a59a02f",
   "metadata": {},
   "outputs": [
    {
     "name": "stdout",
     "output_type": "stream",
     "text": [
      "\"\"\"\n"
     ]
    }
   ],
   "source": [
    "print(\"\\\"\\\"\\\"\")"
   ]
  },
  {
   "cell_type": "code",
   "execution_count": 6,
   "id": "8ee61ce9",
   "metadata": {},
   "outputs": [
    {
     "name": "stdout",
     "output_type": "stream",
     "text": [
      "C:\n",
      "in\the downward spiral\n"
     ]
    }
   ],
   "source": [
    "print(\"C:\\nin\\the downward spiral\")"
   ]
  },
  {
   "cell_type": "markdown",
   "id": "b4454f4d",
   "metadata": {},
   "source": [
    "2.\tWrite a print statement to produce this output:"
   ]
  },
  {
   "cell_type": "code",
   "execution_count": null,
   "id": "60be447b",
   "metadata": {},
   "outputs": [],
   "source": [
    "/ \\ // \\\\ /// \\\\\\"
   ]
  },
  {
   "cell_type": "code",
   "execution_count": 16,
   "id": "a66c4b8e",
   "metadata": {},
   "outputs": [
    {
     "name": "stdout",
     "output_type": "stream",
     "text": [
      "/\\//\\\\///\\\\\\\n"
     ]
    }
   ],
   "source": [
    "print(\"/\" '' \"\\\\\" '' \"//\" '' \"\\\\\\\\\" '' \"///\" '' \"\\\\\\\\\\\\\")"
   ]
  },
  {
   "cell_type": "markdown",
   "id": "af3d5821",
   "metadata": {},
   "source": [
    "3.\tWhat print statements will generate this output?\n",
    "This quote is from Irish poet Oscar Wilde:\n",
    "\"Music makes one feel so romantic\n",
    "\n",
    "- at least it always gets on one's nerves – which is the same thing nowadays.\"\n"
   ]
  },
  {
   "cell_type": "code",
   "execution_count": 19,
   "id": "60650111",
   "metadata": {},
   "outputs": [
    {
     "name": "stdout",
     "output_type": "stream",
     "text": [
      "This quote is from Irish poet Oscar Wilde:\n",
      "\"Music makes one feel so romantic\n",
      "- at least it always gets on one's nerves -\n",
      "which is the same thing nowadays.\"\n"
     ]
    }
   ],
   "source": [
    "print(\"This quote is from Irish poet Oscar Wilde:\")\n",
    "print(\"\\\"Music makes one feel so romantic\")\n",
    "print(\"- at least it always gets on one's nerves -\")\n",
    "print(\"which is the same thing nowadays.\\\"\")"
   ]
  },
  {
   "cell_type": "markdown",
   "id": "4001d3fc",
   "metadata": {},
   "source": [
    "4.\tWhat print statements will generate this output?\n",
    "A \"quoted\" String is 'much' better if you learn\n",
    "the rules of \"escape sequences.\" Also, \"\" represents an empty String. Don't forget: use \\\" instead of \" ! '' is not the same as \"\n"
   ]
  },
  {
   "cell_type": "code",
   "execution_count": 21,
   "id": "f2e439e4",
   "metadata": {},
   "outputs": [
    {
     "name": "stdout",
     "output_type": "stream",
     "text": [
      "A \"quoted\" String is\n",
      "'much' better if you learn\n",
      "the rules of \"escape sequences.\"\n",
      "\n",
      "Also, \"\" represents an empty String.\n",
      "Don't forget: use \\\" instead of \" !\n",
      "'' is not the same as \"\n"
     ]
    }
   ],
   "source": [
    "print(\"A \\\"quoted\\\" String is\")\n",
    "print(\"'much' better if you learn\")\n",
    "print(\"the rules of \\\"escape sequences.\\\"\")\n",
    "print()\n",
    "print(\"Also, \\\"\\\" represents an empty String.\")\n",
    "print(\"Don't forget: use \\\\\\\" instead of \\\" !\")\n",
    "print(\"'' is not the same as \\\"\")\n"
   ]
  },
  {
   "cell_type": "markdown",
   "id": "09287ecc",
   "metadata": {},
   "source": [
    "5.\tWhat values result from the following expressions?"
   ]
  },
  {
   "cell_type": "code",
   "execution_count": 22,
   "id": "93f651c9",
   "metadata": {},
   "outputs": [
    {
     "data": {
      "text/plain": [
       "1.8"
      ]
     },
     "execution_count": 22,
     "metadata": {},
     "output_type": "execute_result"
    }
   ],
   "source": [
    "9 / 5"
   ]
  },
  {
   "cell_type": "code",
   "execution_count": 23,
   "id": "03648934",
   "metadata": {},
   "outputs": [
    {
     "data": {
      "text/plain": [
       "34.75"
      ]
     },
     "execution_count": 23,
     "metadata": {},
     "output_type": "execute_result"
    }
   ],
   "source": [
    "695 / 20"
   ]
  },
  {
   "cell_type": "code",
   "execution_count": 24,
   "id": "3450edda",
   "metadata": {},
   "outputs": [
    {
     "data": {
      "text/plain": [
       "37"
      ]
     },
     "execution_count": 24,
     "metadata": {},
     "output_type": "execute_result"
    }
   ],
   "source": [
    "7 + 6 * 5"
   ]
  },
  {
   "cell_type": "code",
   "execution_count": 25,
   "id": "4311fba9",
   "metadata": {},
   "outputs": [
    {
     "data": {
      "text/plain": [
       "47"
      ]
     },
     "execution_count": 25,
     "metadata": {},
     "output_type": "execute_result"
    }
   ],
   "source": [
    "7 * 6 + 5"
   ]
  },
  {
   "cell_type": "code",
   "execution_count": 26,
   "id": "54f54ab0",
   "metadata": {},
   "outputs": [
    {
     "data": {
      "text/plain": [
       "9.6"
      ]
     },
     "execution_count": 26,
     "metadata": {},
     "output_type": "execute_result"
    }
   ],
   "source": [
    "248 % 100 / 5"
   ]
  },
  {
   "cell_type": "code",
   "execution_count": 27,
   "id": "5e56a800",
   "metadata": {},
   "outputs": [
    {
     "data": {
      "text/plain": [
       "15.75"
      ]
     },
     "execution_count": 27,
     "metadata": {},
     "output_type": "execute_result"
    }
   ],
   "source": [
    "6 * 3 - 9 / 4"
   ]
  },
  {
   "cell_type": "code",
   "execution_count": 28,
   "id": "4f399abb",
   "metadata": {},
   "outputs": [
    {
     "data": {
      "text/plain": [
       "-8"
      ]
     },
     "execution_count": 28,
     "metadata": {},
     "output_type": "execute_result"
    }
   ],
   "source": [
    "(5 - 7) * 4"
   ]
  },
  {
   "cell_type": "code",
   "execution_count": 29,
   "id": "d2704fbb",
   "metadata": {},
   "outputs": [
    {
     "data": {
      "text/plain": [
       "9"
      ]
     },
     "execution_count": 29,
     "metadata": {},
     "output_type": "execute_result"
    }
   ],
   "source": [
    "6 + (18 % (17 - 12))"
   ]
  },
  {
   "cell_type": "markdown",
   "id": "f818beb3",
   "metadata": {},
   "source": [
    "# Exercise 3.3"
   ]
  },
  {
   "cell_type": "markdown",
   "id": "bdaad958",
   "metadata": {},
   "source": [
    "1. Write a program that finds the maximum value of the given list, assuming that the list \n",
    "contains at least one element. \n",
    "Try your program with the following array \n",
    "2 4 7 4 23 5 1 4 8 9"
   ]
  },
  {
   "cell_type": "code",
   "execution_count": 36,
   "id": "2f56cbe8",
   "metadata": {},
   "outputs": [
    {
     "name": "stdout",
     "output_type": "stream",
     "text": [
      "23\n"
     ]
    }
   ],
   "source": [
    "print(max(2,4,7,4,23,5,1,4,8,9))"
   ]
  },
  {
   "cell_type": "markdown",
   "id": "0ec4e764",
   "metadata": {},
   "source": [
    "2. Write a program that calculates the average value of the given list. \n",
    "Try your program with the following list \n",
    "4 7 1 5 11 53 12 46 84 23"
   ]
  },
  {
   "cell_type": "code",
   "execution_count": 2,
   "id": "df26d633",
   "metadata": {},
   "outputs": [],
   "source": [
    "num_list = [4,7,1,5,11,53,12,46,84,23]"
   ]
  },
  {
   "cell_type": "code",
   "execution_count": 3,
   "id": "dc6bfe0b",
   "metadata": {},
   "outputs": [],
   "source": [
    "average = sum(num_list)/len(num_list)"
   ]
  },
  {
   "cell_type": "code",
   "execution_count": 4,
   "id": "8baf49f3",
   "metadata": {},
   "outputs": [
    {
     "name": "stdout",
     "output_type": "stream",
     "text": [
      "24.6\n"
     ]
    }
   ],
   "source": [
    "print(average)"
   ]
  },
  {
   "cell_type": "markdown",
   "id": "d3074fdc",
   "metadata": {},
   "source": [
    "3. Write a program that prints the given list of integers in reverse order. \n",
    "Try your program with the following list \n",
    "2 6 7 45 23 53 14 45 89 5"
   ]
  },
  {
   "cell_type": "code",
   "execution_count": 5,
   "id": "9ded9cea",
   "metadata": {},
   "outputs": [],
   "source": [
    "num_list2 = [2,6,7,45,23,53,14,45,89,5]"
   ]
  },
  {
   "cell_type": "code",
   "execution_count": 6,
   "id": "3e3f7a4d",
   "metadata": {},
   "outputs": [],
   "source": [
    "num_list2.reverse()"
   ]
  },
  {
   "cell_type": "code",
   "execution_count": 18,
   "id": "b3b5baff",
   "metadata": {},
   "outputs": [
    {
     "name": "stdout",
     "output_type": "stream",
     "text": [
      "[5, 89, 45, 14, 53, 23, 45, 7, 6, 2]\n"
     ]
    }
   ],
   "source": [
    "print(num_list2)"
   ]
  },
  {
   "cell_type": "markdown",
   "id": "86877c18",
   "metadata": {},
   "source": [
    "4. Write a program that accepts two lists of integers and prints true if each element in the first \n",
    "list is less than the element at the same index in the second list. Your program should print \n",
    "false if the lists are not the same length."
   ]
  },
  {
   "cell_type": "code",
   "execution_count": 28,
   "id": "2499ee12",
   "metadata": {},
   "outputs": [
    {
     "name": "stdout",
     "output_type": "stream",
     "text": [
      "False\n",
      "False\n"
     ]
    }
   ],
   "source": [
    "def compare_lists(list1, list2):\n",
    "    # Checking to see if the lists are the same length\n",
    "    if len(list1) != len(list2):\n",
    "        return False  # If lists are not the same length, return False\n",
    "    \n",
    "    # Compare elements at each index\n",
    "    for i in range(len(list1)):\n",
    "        if list1[i] >= list2[i]:\n",
    "            return False  # If any element in list1 is not less than the corresponding element in list2, return False\n",
    "    \n",
    "    return True  # If all elements satisfy the condition, return True\n",
    "\n",
    "# Given lists\n",
    "list_a = [2, 4, 6, 8, 10]\n",
    "list_b = [1, 3, 5, 7]\n",
    "\n",
    "# print the comparison result\n",
    "print(compare_lists(list_a, list_b)) \n",
    "print(compare_lists(list_a, list_b))  \n",
    "    "
   ]
  },
  {
   "cell_type": "markdown",
   "id": "b4b91e70",
   "metadata": {},
   "source": [
    "5. Write a program that accepts a list of integers and two indexes and swaps the elements at \n",
    "those indexes "
   ]
  },
  {
   "cell_type": "code",
   "execution_count": 29,
   "id": "3ea11613",
   "metadata": {},
   "outputs": [
    {
     "name": "stdout",
     "output_type": "stream",
     "text": [
      "The list after swapping the elements at indexes 1 and 4 is : [2, 10, 6, 8, 4]\n"
     ]
    }
   ],
   "source": [
    "def swap_elements(input_list: list, index1: int, index2: int):\n",
    "    # simply swap where the two items are using the index\n",
    "    \n",
    "    if 0 <= index1 < len(input_list) and 0 <= index2 < len(input_list):\n",
    "        input_list[index1], input_list[index2] = input_list[index2], input_list[index1]\n",
    "        return input_list  # Return the modified list after swapping\n",
    "    else:\n",
    "        return \"Invalid indexes. Please provide valid indexes within the list range.\"\n",
    "\n",
    "# Given list\n",
    "input_list = [2, 4, 6, 8, 10]\n",
    "\n",
    "# Indexes to swap\n",
    "index1 = 1\n",
    "index2 = 4\n",
    "\n",
    "# Swapping elements at given indexes\n",
    "result = swap_elements(input_list, index1, index2)\n",
    "print(\"The list after swapping the elements at indexes\", index1, \"and\", index2, \"is :\", result)"
   ]
  },
  {
   "cell_type": "markdown",
   "id": "566e69fc",
   "metadata": {},
   "source": [
    "6. Write a program that accepts two lists of integers and prints a new list containing all \n",
    "elements of the first list followed by all elements of the second."
   ]
  },
  {
   "cell_type": "code",
   "execution_count": 30,
   "id": "bafb8196",
   "metadata": {},
   "outputs": [
    {
     "name": "stdout",
     "output_type": "stream",
     "text": [
      "The combined list is: [1, 2, 3, 4, 5, 6, 7, 8]\n"
     ]
    }
   ],
   "source": [
    "def combine_lists(list1, list2):\n",
    "    combined_list = list1 + list2  # Concatenate the two lists\n",
    "    return combined_list\n",
    "\n",
    "# lists of intergers\n",
    "first_list = [1, 2, 3, 4]\n",
    "second_list = [5, 6, 7, 8]\n",
    "\n",
    "# Combining the two list into a new list\n",
    "newcombined_list = combine_lists(first_list, second_list)\n",
    "print(\"The combined list is:\", newcombined_list)"
   ]
  },
  {
   "cell_type": "markdown",
   "id": "7586b075",
   "metadata": {},
   "source": [
    "7. Write a program that accepts a list of integers and an integer value as its parameters and \n",
    "prints the last index at which the value occurs in the list. The program should print –1 if the \n",
    "value is not found. For example, in the list [74, 85, 102, 99, 101, 85, 56], the last index of the \n",
    "value 85 is 5."
   ]
  },
  {
   "cell_type": "code",
   "execution_count": 31,
   "id": "e415308b",
   "metadata": {},
   "outputs": [
    {
     "name": "stdout",
     "output_type": "stream",
     "text": [
      "The last index of the value 85 is 5\n"
     ]
    }
   ],
   "source": [
    "def last_index_of_value(input_list: list, value: int):\n",
    "    if value in input_list[::-1]:  # Check if the value exists in the reversed list\n",
    "        last_index = len(input_list) - input_list[::-1].index(value) - 1  # Calculate the last index\n",
    "        return last_index\n",
    "    else:\n",
    "        return -1  # Return -1 if the value is not found\n",
    "\n",
    "# Given list\n",
    "given_list = [74, 85, 102, 99, 101, 85, 56]\n",
    "\n",
    "# Value to search for\n",
    "search_value = 85\n",
    "\n",
    "# Find and print the last index of the value in the list\n",
    "result = last_index_of_value(given_list, search_value)\n",
    "print(\"The last index of the value\", search_value, \"is\", result)"
   ]
  },
  {
   "cell_type": "markdown",
   "id": "031691df",
   "metadata": {},
   "source": [
    "8. Write a program that prints the range of values in a list of integers. The range is defined as 1 \n",
    "more than the difference between the maximum and minimum values in the list. For \n",
    "example, if a list contains the values [36, 12, 25, 19, 46, 31, 22], the program should return \n",
    "35. You may assume that the list has at least one element. \n"
   ]
  },
  {
   "cell_type": "code",
   "execution_count": 32,
   "id": "195714a4",
   "metadata": {},
   "outputs": [
    {
     "name": "stdout",
     "output_type": "stream",
     "text": [
      "The range of values in the list is 35\n"
     ]
    }
   ],
   "source": [
    "def range(input_list):\n",
    "    min_val = min(input_list)  # Find the minimum value\n",
    "    max_val = max(input_list)  # Find the maximum value\n",
    "    \n",
    " # Calculate the range   \n",
    "    range_value = max_val - min_val + 1  \n",
    "    return range_value\n",
    "\n",
    "input_list = [36, 12, 25, 19, 46, 31, 22]\n",
    "\n",
    "# print the range of values in the list\n",
    "result = range(input_list)\n",
    "print(\"The range of values in the list is\", result)"
   ]
  },
  {
   "cell_type": "markdown",
   "id": "9d815707",
   "metadata": {},
   "source": [
    "9. Write a program that accepts a list of integers, a minimum value, and a maximum value and \n",
    "prints the count of how many elements from the list fall between the minimum and \n",
    "maximum (inclusive). For example, in the list [14, 1, 22, 17, 36, 7, -43, 5], for minimum value \n",
    "4 and maximum value 17, there are four elements whose values fall between 4 and 17."
   ]
  },
  {
   "cell_type": "code",
   "execution_count": 33,
   "id": "6afdb2f5",
   "metadata": {},
   "outputs": [
    {
     "name": "stdout",
     "output_type": "stream",
     "text": [
      "The count of elements between 4 and 17 is: 4\n"
     ]
    }
   ],
   "source": [
    "def count_elements_in_range(input_list, min_val, max_val):\n",
    "    count = sum(1 for element in input_list if min_val <= element <= max_val)\n",
    "    return count\n",
    "\n",
    "# Given list\n",
    "input_list = [14, 1, 22, 17, 36, 7, -43, 5]\n",
    "\n",
    "# Minimum and maximum values\n",
    "min_value = 4\n",
    "max_value = 17\n",
    "\n",
    "# Count elements between the minimum and maximum values in the list\n",
    "result = count_elements_in_range(input_list, min_value, max_value)\n",
    "print(f\"The count of elements between {min_value} and {max_value} is: {result}\")"
   ]
  },
  {
   "cell_type": "markdown",
   "id": "4202466c",
   "metadata": {},
   "source": [
    "10. Write a program that accepts a list of real numbers and prints true if the list is in sorted \n",
    "(nondecreasing) order and false otherwise. For example, if lists named list1 and list2 store \n",
    "[16.1, 12.3, 22.2, 14.4] and [1.5, 4.3, 7.0, 19.5, 25.1, 46.2] respectively, the program should \n",
    "print false for list1 and true for list2 respectively. Assume the list has at least one element. A \n",
    "one-element list is sorted."
   ]
  },
  {
   "cell_type": "code",
   "execution_count": 39,
   "id": "6799dbe9",
   "metadata": {},
   "outputs": [
    {
     "ename": "TypeError",
     "evalue": "range() takes 1 positional argument but 2 were given",
     "output_type": "error",
     "traceback": [
      "\u001b[1;31m---------------------------------------------------------------------------\u001b[0m",
      "\u001b[1;31mTypeError\u001b[0m                                 Traceback (most recent call last)",
      "\u001b[1;32m~\\AppData\\Local\\Temp\\ipykernel_9952\\2874269059.py\u001b[0m in \u001b[0;36m<module>\u001b[1;34m\u001b[0m\n\u001b[0;32m     16\u001b[0m \u001b[0mlist2\u001b[0m \u001b[1;33m=\u001b[0m \u001b[1;33m[\u001b[0m\u001b[1;36m1.5\u001b[0m\u001b[1;33m,\u001b[0m \u001b[1;36m4.3\u001b[0m\u001b[1;33m,\u001b[0m \u001b[1;36m7.0\u001b[0m\u001b[1;33m,\u001b[0m \u001b[1;36m19.5\u001b[0m\u001b[1;33m,\u001b[0m \u001b[1;36m25.1\u001b[0m\u001b[1;33m,\u001b[0m \u001b[1;36m46.2\u001b[0m\u001b[1;33m]\u001b[0m\u001b[1;33m\u001b[0m\u001b[1;33m\u001b[0m\u001b[0m\n\u001b[0;32m     17\u001b[0m \u001b[1;33m\u001b[0m\u001b[0m\n\u001b[1;32m---> 18\u001b[1;33m \u001b[0mprint\u001b[0m\u001b[1;33m(\u001b[0m\u001b[1;34mf\"List 1 sorted: {is_sorted(list1)}\"\u001b[0m\u001b[1;33m)\u001b[0m\u001b[1;33m\u001b[0m\u001b[1;33m\u001b[0m\u001b[0m\n\u001b[0m\u001b[0;32m     19\u001b[0m \u001b[0mprint\u001b[0m\u001b[1;33m(\u001b[0m\u001b[1;34mf\"List 2 sorted: {is_sorted(list2)}\"\u001b[0m\u001b[1;33m)\u001b[0m\u001b[1;33m\u001b[0m\u001b[1;33m\u001b[0m\u001b[0m\n",
      "\u001b[1;32m~\\AppData\\Local\\Temp\\ipykernel_9952\\2874269059.py\u001b[0m in \u001b[0;36mis_sorted\u001b[1;34m(data)\u001b[0m\n\u001b[0;32m      8\u001b[0m    \u001b[1;32mreturn\u001b[0m \u001b[1;32mTrue\u001b[0m\u001b[1;33m\u001b[0m\u001b[1;33m\u001b[0m\u001b[0m\n\u001b[0;32m      9\u001b[0m \u001b[1;33m\u001b[0m\u001b[0m\n\u001b[1;32m---> 10\u001b[1;33m  \u001b[1;32mfor\u001b[0m \u001b[0mi\u001b[0m \u001b[1;32min\u001b[0m \u001b[0mrange\u001b[0m\u001b[1;33m(\u001b[0m\u001b[1;36m1\u001b[0m\u001b[1;33m,\u001b[0m \u001b[0mlen\u001b[0m\u001b[1;33m(\u001b[0m\u001b[0mdata\u001b[0m\u001b[1;33m)\u001b[0m\u001b[1;33m)\u001b[0m\u001b[1;33m:\u001b[0m\u001b[1;33m\u001b[0m\u001b[1;33m\u001b[0m\u001b[0m\n\u001b[0m\u001b[0;32m     11\u001b[0m    \u001b[1;32mif\u001b[0m \u001b[0mdata\u001b[0m\u001b[1;33m[\u001b[0m\u001b[0mi\u001b[0m\u001b[1;33m-\u001b[0m\u001b[1;36m1\u001b[0m\u001b[1;33m]\u001b[0m \u001b[1;33m>\u001b[0m \u001b[0mdata\u001b[0m\u001b[1;33m[\u001b[0m\u001b[0mi\u001b[0m\u001b[1;33m]\u001b[0m\u001b[1;33m:\u001b[0m\u001b[1;33m\u001b[0m\u001b[1;33m\u001b[0m\u001b[0m\n\u001b[0;32m     12\u001b[0m      \u001b[1;32mreturn\u001b[0m \u001b[1;32mFalse\u001b[0m\u001b[1;33m\u001b[0m\u001b[1;33m\u001b[0m\u001b[0m\n",
      "\u001b[1;31mTypeError\u001b[0m: range() takes 1 positional argument but 2 were given"
     ]
    }
   ],
   "source": [
    "# Write a program that accepts a list of real numbers and prints true if the list is in sorted (nondecreasing) order and false otherwise. \n",
    "# For example, if lists named list1 and list2 store [16.1, 12.3, 22.2, 14.4] and [1.5, 4.3, 7.0, 19.5, 25.1, 46.2] respectively, the program should print false for list1 and true for list2 respectively.\n",
    "# Assume the list has at least one element. \n",
    "# A one-element list is sorted.\n",
    "\n",
    "def is_sorted(data):\n",
    " if len(data) <= 1:\n",
    "   return True\n",
    "\n",
    " for i in range(1, len(data)):\n",
    "   if data[i-1] > data[i]:\n",
    "     return False\n",
    " return True\n",
    "\n",
    "list1 = [16.1, 12.3, 22.2, 14.4]\n",
    "list2 = [1.5, 4.3, 7.0, 19.5, 25.1, 46.2]\n",
    "\n",
    "print(f\"List 1 sorted: {is_sorted(list1)}\")\n",
    "print(f\"List 2 sorted: {is_sorted(list2)}\")"
   ]
  },
  {
   "cell_type": "markdown",
   "id": "a4c262f2",
   "metadata": {},
   "source": [
    "# Exercise 4.4"
   ]
  },
  {
   "cell_type": "markdown",
   "id": "b1132a11",
   "metadata": {},
   "source": [
    "1. Write a program to produce the following output using for loop \n",
    "+----+ \n",
    "\\    \n",
    "/    \n",
    "\\    \n",
    "/    \n",
    "\\    \n",
    "/    \n",
    "/ \n",
    "\\ \n",
    "/ \n",
    "\\ \n",
    "/ \n",
    "\\ \n",
    "+----+"
   ]
  },
  {
   "cell_type": "code",
   "execution_count": null,
   "id": "2c1c761e",
   "metadata": {},
   "outputs": [],
   "source": [
    "for i in range(1):\n",
    "    print(\"+----+\")\n",
    "    print(\"\\\\    /\")\n",
    "    print(\"/    \\\\\")\n",
    "    print(\"\\\\    /\")\n",
    "    print(\"/    \\\\\")\n",
    "    print(\"\\\\    /\")\n",
    "    print(\"/    \\\\\")\n",
    "    print(\"+----+\")"
   ]
  },
  {
   "cell_type": "code",
   "execution_count": null,
   "id": "ce951633",
   "metadata": {},
   "outputs": [],
   "source": [
    "2. Write a program to produce the following output using for loop \n",
    "********** \n",
    "********** \n",
    "********** \n",
    "********** \n",
    "********** "
   ]
  },
  {
   "cell_type": "code",
   "execution_count": 49,
   "id": "dffe3382",
   "metadata": {},
   "outputs": [
    {
     "ename": "SyntaxError",
     "evalue": "invalid syntax (798907463.py, line 4)",
     "output_type": "error",
     "traceback": [
      "\u001b[1;36m  File \u001b[1;32m\"C:\\Users\\HP840 G3\\AppData\\Local\\Temp\\ipykernel_9952\\798907463.py\"\u001b[1;36m, line \u001b[1;32m4\u001b[0m\n\u001b[1;33m    print(''**********')\u001b[0m\n\u001b[1;37m              ^\u001b[0m\n\u001b[1;31mSyntaxError\u001b[0m\u001b[1;31m:\u001b[0m invalid syntax\n"
     ]
    }
   ],
   "source": [
    "# Write a program to produce the following output using for loop\n",
    "\n",
    "for i in range(5):\n",
    "    print(''**********')"
   ]
  },
  {
   "cell_type": "code",
   "execution_count": null,
   "id": "a9b1b5af",
   "metadata": {},
   "outputs": [],
   "source": [
    "3. Complete the code for the following for loop:  \n",
    "for in range(1,7): \n",
    "//your code here \n",
    "so that it prints the following numbers, one per line: \n",
    "a) 1 b) 2 c) 4 d) 30 e) -7 f) 97 g) -4 \n",
    " 2  4  19  20  -3  94  14 \n",
    " 3  6  34  10  1  91  32 \n",
    " 4  8  49  0  5  88  50 \n",
    " 5  10  64  -10  9  85  68 \n",
    " 6  12  79  -20  13  82  86"
   ]
  },
  {
   "cell_type": "code",
   "execution_count": 41,
   "id": "2973a081",
   "metadata": {},
   "outputs": [
    {
     "ename": "TypeError",
     "evalue": "range() takes 1 positional argument but 2 were given",
     "output_type": "error",
     "traceback": [
      "\u001b[1;31m---------------------------------------------------------------------------\u001b[0m",
      "\u001b[1;31mTypeError\u001b[0m                                 Traceback (most recent call last)",
      "\u001b[1;32m~\\AppData\\Local\\Temp\\ipykernel_9952\\259314723.py\u001b[0m in \u001b[0;36m<module>\u001b[1;34m\u001b[0m\n\u001b[1;32m----> 1\u001b[1;33m \u001b[1;32mfor\u001b[0m \u001b[0ma\u001b[0m \u001b[1;32min\u001b[0m \u001b[0mrange\u001b[0m\u001b[1;33m(\u001b[0m\u001b[1;36m1\u001b[0m\u001b[1;33m,\u001b[0m\u001b[1;36m7\u001b[0m\u001b[1;33m)\u001b[0m\u001b[1;33m:\u001b[0m\u001b[1;33m\u001b[0m\u001b[1;33m\u001b[0m\u001b[0m\n\u001b[0m\u001b[0;32m      2\u001b[0m     \u001b[0mprint\u001b[0m \u001b[1;33m(\u001b[0m\u001b[0ma\u001b[0m\u001b[1;33m)\u001b[0m\u001b[1;33m\u001b[0m\u001b[1;33m\u001b[0m\u001b[0m\n",
      "\u001b[1;31mTypeError\u001b[0m: range() takes 1 positional argument but 2 were given"
     ]
    }
   ],
   "source": [
    "for a in range(1,7):\n",
    "    print (a)"
   ]
  },
  {
   "cell_type": "code",
   "execution_count": null,
   "id": "99ffb5e9",
   "metadata": {},
   "outputs": [],
   "source": [
    "4. Write a program to produce the following output using for loops. Then \n",
    "use a class constant to make it possible to change the number of lines in \n",
    "the figure. \n",
    "1 \n",
    "22 \n",
    "333 \n",
    "4444 \n",
    "55555 \n",
    "666666 \n",
    "7777777 "
   ]
  },
  {
   "cell_type": "code",
   "execution_count": null,
   "id": "ae164ff4",
   "metadata": {},
   "outputs": [],
   "source": []
  },
  {
   "cell_type": "code",
   "execution_count": null,
   "id": "74782015",
   "metadata": {},
   "outputs": [],
   "source": [
    "5. Write a method named pay that accepts two parameters: a real number \n",
    "for a TA's salary, and an integer for the number of hours the TA worked \n",
    "this week. The method should return how much money to pay the TA. \n",
    "For example, the call  \n",
    "pay(5.50, 6)  \n",
    "should return  \n",
    "33.0.  \n",
    "The TA should receive \"overtime\" pay of 1 ½ normal salary for any hours \n",
    "above 8. For example, the call pay(4.00, 11) should return (4.00 * \n",
    "8) + (6.00 * 3) or 50.0. "
   ]
  },
  {
   "cell_type": "code",
   "execution_count": null,
   "id": "846d17da",
   "metadata": {},
   "outputs": [],
   "source": []
  },
  {
   "cell_type": "code",
   "execution_count": null,
   "id": "cc75fd57",
   "metadata": {},
   "outputs": [],
   "source": [
    "6. Consider the following method for converting milliseconds into days: \n",
    "// converts milliseconds to days \n",
    "def toDays(millis):  \n",
    "return millis / 1000.0 / 60.0 / 60.0 / 24.0 \n",
    "Write a similar method named area that takes as a parameter the radius of \n",
    "a circle and that returns the area of the circle. For example, the call  \n",
    "area(2.0);  \n",
    "should return  \n",
    "12.566370614359172.  \n",
    "Recall that area can be computed as π times the radius squared and that \n",
    "Python has a constant called math.pi"
   ]
  },
  {
   "cell_type": "code",
   "execution_count": null,
   "id": "e8747320",
   "metadata": {},
   "outputs": [],
   "source": []
  },
  {
   "cell_type": "code",
   "execution_count": null,
   "id": "71069998",
   "metadata": {},
   "outputs": [],
   "source": [
    "7. Copy and paste the following code into pythons IDLE script \n",
    "environment. \n",
    "low = 1 \n",
    "high = 1001 \n",
    "sum = 0 \n",
    "for i in range(low,high): \n",
    "sum += i \n",
    "print(\"sum = \" , sum) \n",
    "Modify the code to use a input to prompt the user for the values of low \n",
    "and high. Below is a sample execution in which the user asks for the same \n",
    "values as in the original program (1 through 1000): \n",
    "low? 1 \n",
    "high? 1001 \n",
    "sum = 500500 \n",
    "Below is an execution with different values for low and high: \n",
    "low? 300 \n",
    "high? 5298 \n",
    "sum = 13986903 \n",
    "You should exactly reproduce this format."
   ]
  },
  {
   "cell_type": "code",
   "execution_count": null,
   "id": "171f0e69",
   "metadata": {},
   "outputs": [],
   "source": []
  },
  {
   "cell_type": "code",
   "execution_count": null,
   "id": "ffeb92c0",
   "metadata": {},
   "outputs": [],
   "source": [
    "8. Write a program using while loop that prompts the user for numbers until \n",
    "the user types 0, then outputs their sum."
   ]
  },
  {
   "cell_type": "code",
   "execution_count": null,
   "id": "b9044264",
   "metadata": {},
   "outputs": [],
   "source": []
  },
  {
   "cell_type": "code",
   "execution_count": null,
   "id": "d88835df",
   "metadata": {},
   "outputs": [],
   "source": [
    "9. Write a program using while loop that prompts the user for numbers until \n",
    "the user types -1, then outputs their sum. "
   ]
  },
  {
   "cell_type": "code",
   "execution_count": null,
   "id": "effce9fc",
   "metadata": {},
   "outputs": [],
   "source": []
  },
  {
   "cell_type": "code",
   "execution_count": null,
   "id": "92901aff",
   "metadata": {},
   "outputs": [],
   "source": [
    "10. Write a method named repl that accepts a String and a number of \n",
    "repetitions as parameters and returns the String concatenated that many \n",
    "times. For example, the call repl(\"hello\", 3) returns \"hellohellohello\". \n",
    "If the number of repetitions is 0 or less, an empty string is returned."
   ]
  },
  {
   "cell_type": "code",
   "execution_count": null,
   "id": "9a9ee993",
   "metadata": {},
   "outputs": [],
   "source": []
  },
  {
   "cell_type": "code",
   "execution_count": null,
   "id": "4dcaa0ba",
   "metadata": {},
   "outputs": [],
   "source": [
    "11. Write a method called printRange that accepts two integers as arguments and \n",
    "prints the sequence of numbers between the two arguments, separated by \n",
    "spaces. Print an increasing sequence if the first argument is smaller than \n",
    "the second; otherwise, print a decreasing sequence. If the two numbers \n",
    "are the same, that number should be printed by itself. Here are some \n",
    "sample calls to printRange:  \n",
    "printRange(2, 7) \n",
    "printRange(19, 11) \n",
    "printRange(5, 5) \n",
    "The output produced should be the following:  \n",
    "2 3 4 5 6 7  \n",
    "19 18 17 16 15 14 13 12 11  \n",
    "5"
   ]
  },
  {
   "cell_type": "code",
   "execution_count": null,
   "id": "cdb71b95",
   "metadata": {},
   "outputs": [],
   "source": []
  },
  {
   "cell_type": "code",
   "execution_count": null,
   "id": "292ad222",
   "metadata": {},
   "outputs": [],
   "source": [
    "12. Write a method named smallestLargest that asks the user to enter numbers, \n",
    "then prints the smallest and largest of all the numbers typed in by the \n",
    "user. You may assume the user enters a valid number greater than 0 for \n",
    "the number of numbers to read. Here is an example dialogue:  \n",
    "How many numbers do you want to enter? 4 \n",
    "Number 1: 5 \n",
    "Number 2: 11 \n",
    "Number 3: -2 \n",
    "Number 4: 3 \n",
    "Smallest = -2\n",
    "Largest = 11 "
   ]
  },
  {
   "cell_type": "code",
   "execution_count": null,
   "id": "5aa7a50e",
   "metadata": {},
   "outputs": [],
   "source": []
  },
  {
   "cell_type": "code",
   "execution_count": null,
   "id": "5acc6814",
   "metadata": {},
   "outputs": [],
   "source": [
    "13. Write a method called printAverage that uses a sentinel loop to \n",
    "repeatedly prompt the user for numbers. Once the user types any number \n",
    "less than zero, the method should display the average of all nonnegative \n",
    "numbers typed. Display the average as a double. Here is a sample \n",
    "dialogue with the user: \n",
    "Type a number: 7 \n",
    "Type a number: 4 \n",
    "Type a number: 16 \n",
    "Type a number: –4 \n",
    "Average was 9.0 \n",
    "If the first number that the user types is negative, do not print an average: \n",
    "Type a number: –2"
   ]
  },
  {
   "cell_type": "code",
   "execution_count": null,
   "id": "76f4a6f8",
   "metadata": {},
   "outputs": [],
   "source": []
  },
  {
   "cell_type": "code",
   "execution_count": null,
   "id": "e114f8fe",
   "metadata": {},
   "outputs": [],
   "source": [
    "14. Write a method named numUnique that takes three integers as parameters \n",
    "and returns the number of unique integers among the three. For example, \n",
    "the call numUnique(18, 3, 4) should return 3 because the parameters \n",
    "have three different values. By contrast, the call numUnique(6, 7, 6) \n",
    "should return 2 because there are only two unique numbers among the \n",
    "three parameters: 6 and 7."
   ]
  },
  {
   "cell_type": "code",
   "execution_count": null,
   "id": "74e8a3bc",
   "metadata": {},
   "outputs": [],
   "source": []
  },
  {
   "cell_type": "code",
   "execution_count": null,
   "id": "6599ab34",
   "metadata": {},
   "outputs": [],
   "source": [
    "15. A Random object generates pseudo-random numbers. Find out how to \n",
    "use the Random class and write a program that simulates rolling of two 6\n",
    "sided dice until their combined result comes up as 7. One possible output \n",
    "can be seen as below: \n",
    "2 + 4 = 6 \n",
    "3 + 5 = 8 \n",
    "5 + 6 = 11 \n",
    "1 + 1 = 2 \n",
    "4 + 3 = 7 \n",
    "You won after 5 tries!"
   ]
  },
  {
   "cell_type": "code",
   "execution_count": null,
   "id": "12915216",
   "metadata": {},
   "outputs": [],
   "source": []
  },
  {
   "cell_type": "code",
   "execution_count": null,
   "id": "b11dbc7b",
   "metadata": {},
   "outputs": [],
   "source": []
  },
  {
   "cell_type": "code",
   "execution_count": null,
   "id": "ea098790",
   "metadata": {},
   "outputs": [],
   "source": []
  },
  {
   "cell_type": "code",
   "execution_count": null,
   "id": "6dd7d5dc",
   "metadata": {},
   "outputs": [],
   "source": []
  },
  {
   "cell_type": "code",
   "execution_count": null,
   "id": "fa0a52ba",
   "metadata": {},
   "outputs": [],
   "source": []
  },
  {
   "cell_type": "code",
   "execution_count": null,
   "id": "94bdb20a",
   "metadata": {},
   "outputs": [],
   "source": []
  }
 ],
 "metadata": {
  "kernelspec": {
   "display_name": "Python 3 (ipykernel)",
   "language": "python",
   "name": "python3"
  },
  "language_info": {
   "codemirror_mode": {
    "name": "ipython",
    "version": 3
   },
   "file_extension": ".py",
   "mimetype": "text/x-python",
   "name": "python",
   "nbconvert_exporter": "python",
   "pygments_lexer": "ipython3",
   "version": "3.9.13"
  }
 },
 "nbformat": 4,
 "nbformat_minor": 5
}
